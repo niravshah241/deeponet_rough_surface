{
  "cells": [
    {
      "cell_type": "code",
      "execution_count": 1,
      "id": "81f7a5c0",
      "metadata": {
        "id": "81f7a5c0"
      },
      "outputs": [],
      "source": [
        "import torch\n",
        "import numpy as np\n",
        "import torch\n",
        "import torch.nn as nn\n",
        "import torch.nn.functional as F\n",
        "import matplotlib as mpl\n",
        "import matplotlib.pyplot as plt\n",
        "import time\n",
        "import os"
      ]
    },
    {
      "cell_type": "code",
      "execution_count": 2,
      "id": "f5b552c8",
      "metadata": {
        "id": "f5b552c8"
      },
      "outputs": [],
      "source": [
        "path = \"data_use_dirichlet/\""
      ]
    },
    {
      "cell_type": "code",
      "execution_count": 3,
      "id": "e6370222",
      "metadata": {
        "id": "e6370222"
      },
      "outputs": [],
      "source": [
        "if os.path.exists(path) == False:\n",
        "  os.mkdir(path)\n",
        "  raise Exception(f\"Upload data first at {path}\")"
      ]
    },
    {
      "cell_type": "code",
      "execution_count": 4,
      "id": "d1c7266f",
      "metadata": {
        "id": "d1c7266f"
      },
      "outputs": [],
      "source": [
        "# set wavenumber and wavelength\n",
        "k = 2.0 * np.pi\n",
        "lamb =  2.0 * np.pi / k"
      ]
    },
    {
      "cell_type": "code",
      "execution_count": 5,
      "id": "77c367b5",
      "metadata": {
        "id": "77c367b5"
      },
      "outputs": [],
      "source": [
        "# domain [la,lb]\n",
        "la = -12.0 * lamb\n",
        "lb = 12.0 * lamb"
      ]
    },
    {
      "cell_type": "code",
      "execution_count": 6,
      "id": "4bd544e8",
      "metadata": {
        "id": "4bd544e8"
      },
      "outputs": [],
      "source": [
        "# define the mesh for calculation\n",
        "N_obs = 240\n",
        "h_obs = (lb - la) / N_obs\n",
        "mesh_obs = np.linspace(la, lb, (N_obs + 1))"
      ]
    },
    {
      "cell_type": "code",
      "execution_count": 7,
      "id": "ad8c98a8",
      "metadata": {
        "id": "ad8c98a8"
      },
      "outputs": [],
      "source": [
        "mesh_mid_obs = np.zeros(N_obs + 1)"
      ]
    },
    {
      "cell_type": "code",
      "execution_count": 8,
      "id": "df1f8760",
      "metadata": {
        "id": "df1f8760"
      },
      "outputs": [],
      "source": [
        "mesh_mid_obs[0] = la"
      ]
    },
    {
      "cell_type": "code",
      "execution_count": 9,
      "id": "0200e8a7",
      "metadata": {
        "id": "0200e8a7"
      },
      "outputs": [],
      "source": [
        "for od in range(N_obs):\n",
        "    mesh_mid_obs[od + 1] = (mesh_obs[od] + mesh_obs[od+1])/2.0"
      ]
    },
    {
      "cell_type": "code",
      "execution_count": 10,
      "id": "15e80657",
      "metadata": {
        "id": "15e80657"
      },
      "outputs": [],
      "source": [
        "# transform numpy mesh to torch mesh\n",
        "x_mid_obs = torch.tensor(mesh_mid_obs, dtype = torch.float32, requires_grad = True)\n",
        "x_mesh_obs = torch.tensor(mesh_obs, dtype = torch.float32, requires_grad = True)"
      ]
    },
    {
      "cell_type": "code",
      "execution_count": 11,
      "id": "5580778f",
      "metadata": {
        "id": "5580778f"
      },
      "outputs": [],
      "source": [
        "# mesh point input for the trunk network\n",
        "x_tensor = x_mid_obs[1:]\n",
        "x_tensors = x_tensor.detach()"
      ]
    },
    {
      "cell_type": "code",
      "execution_count": 12,
      "id": "5032fdfb",
      "metadata": {
        "id": "5032fdfb"
      },
      "outputs": [],
      "source": [
        "# surface height range\n",
        "hmax = 0.2 * lamb\n",
        "hmin = -0.2 * lamb"
      ]
    },
    {
      "cell_type": "code",
      "execution_count": 13,
      "id": "217ece43",
      "metadata": {
        "id": "217ece43"
      },
      "outputs": [],
      "source": [
        "# load data\n",
        "data1 = torch.load(path+'data1.pt')\n",
        "data2 = torch.load(path+'data2.pt')\n",
        "data3 = torch.load(path+'data3.pt')\n",
        "data4 = torch.load(path+'data4.pt')\n",
        "data5 = torch.load(path+'data5.pt')\n",
        "data6 = torch.load(path+'data6.pt')\n",
        "data7 = torch.load(path+'data7.pt')\n",
        "data8 = torch.load(path+'data8.pt')\n",
        "data9 = torch.load(path+'data9.pt')\n",
        "data10 = torch.load(path+'data10.pt')\n",
        "data11 = torch.load(path+'data11.pt')\n",
        "data12 = torch.load(path+'data12.pt')\n",
        "data13 = torch.load(path+'data13.pt')\n",
        "data14 = torch.load(path+'data14.pt')\n",
        "data15 = torch.load(path+'data15.pt')\n",
        "data16 = torch.load(path+'data16.pt')\n",
        "data17 = torch.load(path+'data17.pt')\n",
        "data18 = torch.load(path+'data18.pt')\n",
        "data19 = torch.load(path+'data19.pt')\n",
        "data20 = torch.load(path+'data20.pt')"
      ]
    },
    {
      "cell_type": "code",
      "execution_count": 14,
      "id": "6866cd00",
      "metadata": {
        "id": "6866cd00"
      },
      "outputs": [],
      "source": [
        "data_train = data1 + data2 + data3 + data4 + data5 + data6 + data7 + data8 + data9 + data10 \\\n",
        "+ data11 + data12 + data13 +data14 + data15 + data16 + data17 + data18 + data19 + data20"
      ]
    },
    {
      "cell_type": "code",
      "execution_count": 15,
      "id": "0bea43e6",
      "metadata": {
        "colab": {
          "base_uri": "https://localhost:8080/"
        },
        "id": "0bea43e6",
        "outputId": "4b984d83-6fb2-4f4f-bdee-8ebebc285279"
      },
      "outputs": [
        {
          "output_type": "stream",
          "name": "stdout",
          "text": [
            "total number of data =  20000\n"
          ]
        }
      ],
      "source": [
        "size_data = len(data_train)\n",
        "print('total number of data = ', size_data)"
      ]
    },
    {
      "cell_type": "code",
      "execution_count": 16,
      "id": "6662f114",
      "metadata": {
        "id": "6662f114"
      },
      "outputs": [],
      "source": [
        "# put surface height, scattered data, and measurement height in arrays\n",
        "hei_array = []\n",
        "phis_array = []\n",
        "zz_array = []"
      ]
    },
    {
      "cell_type": "code",
      "execution_count": 17,
      "id": "fd71a1b6",
      "metadata": {
        "id": "fd71a1b6"
      },
      "outputs": [],
      "source": [
        "for i in range(size_data):\n",
        "    hei_array.append(data_train[i][0])\n",
        "    phis_array.append(data_train[i][1])\n",
        "    zz_array.append(data_train[i][2])"
      ]
    },
    {
      "cell_type": "code",
      "execution_count": 18,
      "id": "f9574a38",
      "metadata": {
        "lines_to_next_cell": 1,
        "id": "f9574a38"
      },
      "outputs": [],
      "source": [
        "# stack the data in one tensor\n",
        "hei_tensors = torch.stack(hei_array).detach()\n",
        "phis_tensors = torch.stack(phis_array).detach()\n",
        "phis_real_tensors = torch.real(phis_tensors)\n",
        "phis_imag_tensors = torch.imag(phis_tensors)\n",
        "zz_tensors = torch.stack(zz_array).detach()"
      ]
    },
    {
      "cell_type": "code",
      "execution_count": 19,
      "id": "42fbd4ce",
      "metadata": {
        "lines_to_next_cell": 1,
        "id": "42fbd4ce"
      },
      "outputs": [],
      "source": [
        "# note that the normalzation range is [-0.5,0.5]\n",
        "def normalize_tensor(input_tensor):\n",
        "\n",
        "    min_val = torch.min(input_tensor)\n",
        "    max_val = torch.max(input_tensor)\n",
        "    normalized_tensor = (input_tensor - min_val) / (max_val - min_val) - 0.5\n",
        "\n",
        "    return normalized_tensor"
      ]
    },
    {
      "cell_type": "code",
      "execution_count": 20,
      "id": "0d28b18c",
      "metadata": {
        "id": "0d28b18c"
      },
      "outputs": [],
      "source": [
        "# normalization of data\n",
        "normalized_hei_tensors = normalize_tensor(hei_tensors)\n",
        "normalized_phis_real_tensors = normalize_tensor(phis_real_tensors)\n",
        "normalized_phis_imag_tensors = normalize_tensor(phis_imag_tensors)\n",
        "normalized_x_tensors = normalize_tensor(x_tensors)\n",
        "normalized_zz_tensors = normalize_tensor(zz_tensors)"
      ]
    },
    {
      "cell_type": "code",
      "execution_count": 21,
      "id": "b3586f75",
      "metadata": {
        "lines_to_next_cell": 1,
        "id": "b3586f75"
      },
      "outputs": [],
      "source": [
        "# inverse normalization of data, used for plotting original surface height\n",
        "def inverse_normalize_tensor(normalized_tensor, original_max, original_min):\n",
        "\n",
        "    return (normalized_tensor + 0.5) * (original_max - original_min) + original_min"
      ]
    },
    {
      "cell_type": "markdown",
      "id": "04840b95",
      "metadata": {
        "id": "04840b95"
      },
      "source": [
        "structure for a uniform feed-forward neural network"
      ]
    },
    {
      "cell_type": "code",
      "execution_count": 22,
      "id": "b5d57ddc",
      "metadata": {
        "lines_to_next_cell": 1,
        "colab": {
          "base_uri": "https://localhost:8080/",
          "height": 122
        },
        "id": "b5d57ddc",
        "outputId": "6e325c1a-b149-4faa-8612-7f6e9f5519e5"
      },
      "outputs": [
        {
          "output_type": "execute_result",
          "data": {
            "text/plain": [
              "'\\n# Reference CNN implementation for branch2.\\n# Minimises loss upto 9e-4 with 15000 epochs.\\n# Alternatively, reaches loss to the order of 6e-3 in 2400 epochs.\\n# However, DeepONet has 134154 learnable parameters (Almost double that of FNN).\\n# Serves as good benchmark for finetuning CNN architecture.\\nclass CNN(nn.Module):\\n    def __init__(self):\\n        super().__init__()\\n        self.activation = torch.nn.Tanh()\\n        self.conv1 = torch.nn.Sequential(\\n            torch.nn.Conv1d(\\n                in_channels = 1,\\n                out_channels = 4,\\n                kernel_size = 11, # 7,\\n                stride = 1,\\n                padding = 2,\\n            ),\\n            torch.nn.BatchNorm1d(4),\\n            torch.nn.Tanh(), # torch.nn.ReLU(),\\n            torch.nn.MaxPool1d(3),\\n        )\\n\\n        self.conv2 = torch.nn.Sequential(\\n            torch.nn.Conv1d(\\n                in_channels = 4,\\n                out_channels = 8,\\n                kernel_size = 5,\\n                stride = 1,\\n                padding = 2,\\n            ),\\n            torch.nn.BatchNorm1d(8),\\n            torch.nn.Tanh(), # torch.nn.ReLU(),\\n            torch.nn.MaxPool1d(3),\\n        )\\n\\n        self.fnn1 = torch.nn.Linear(416, 234)\\n        self.fnn2 = torch.nn.Linear(234, 64)\\n\\n    def forward(self, x):\\n        assert torch.isinf(x).any() != True\\n        x = self.conv1(x)\\n        assert torch.isinf(x).any() != True\\n        x = self.conv2(x)\\n        assert torch.isinf(x).any() != True\\n        x = x.view(x.size(0), -1)\\n        output = self.activation(self.fnn1(x))\\n        output = self.activation(self.fnn2(output))\\n        return output\\n'"
            ],
            "application/vnd.google.colaboratory.intrinsic+json": {
              "type": "string"
            }
          },
          "metadata": {},
          "execution_count": 22
        }
      ],
      "source": [
        "class FNN(nn.Module):\n",
        "\n",
        "    # input_size: the size of input tensor\n",
        "    # output_size: size of output tensor\n",
        "    # hidden_layers: number of hidden layers\n",
        "    # hidden_neurons: number of hidden neurons per hidden layer\n",
        "    # activation: activation function\n",
        "\n",
        "    def __init__(self, input_size, output_size, hidden_layers, hidden_neurons, activation):\n",
        "\n",
        "        super(FNN, self).__init__()\n",
        "        self.input_size = input_size\n",
        "        self.output_size = output_size\n",
        "        self.hidden_layers = hidden_layers\n",
        "        self.hidden_neurons = hidden_neurons\n",
        "        self.activation = activation\n",
        "\n",
        "        self.input_layer = nn.Linear(input_size, hidden_neurons)\n",
        "        self.hidden_layers_list = nn.ModuleList()\n",
        "        for _ in range(hidden_layers - 1):\n",
        "            self.hidden_layers_list.append(nn.Linear(hidden_neurons, hidden_neurons))\n",
        "        self.output_layer = nn.Linear(hidden_neurons, output_size)\n",
        "\n",
        "    def forward(self, x):\n",
        "\n",
        "        x = self.activation(self.input_layer(x))\n",
        "\n",
        "        for hidden_layer in self.hidden_layers_list:\n",
        "            x = self.activation(hidden_layer(x))\n",
        "\n",
        "        x = self.activation(self.output_layer(x))\n",
        "\n",
        "        return x\n",
        "'''\n",
        "# Reference CNN implementation for branch2.\n",
        "# Minimises loss upto 9e-4 with 15000 epochs.\n",
        "# Alternatively, reaches loss to the order of 6e-3 in 2400 epochs.\n",
        "# However, DeepONet has 134154 learnable parameters (Almost double that of FNN).\n",
        "# Serves as good benchmark for finetuning CNN architecture.\n",
        "class CNN(nn.Module):\n",
        "    def __init__(self):\n",
        "        super().__init__()\n",
        "        self.activation = torch.nn.Tanh()\n",
        "        self.conv1 = torch.nn.Sequential(\n",
        "            torch.nn.Conv1d(\n",
        "                in_channels = 1,\n",
        "                out_channels = 4,\n",
        "                kernel_size = 11, # 7,\n",
        "                stride = 1,\n",
        "                padding = 2,\n",
        "            ),\n",
        "            torch.nn.BatchNorm1d(4),\n",
        "            torch.nn.Tanh(), # torch.nn.ReLU(),\n",
        "            torch.nn.MaxPool1d(3),\n",
        "        )\n",
        "\n",
        "        self.conv2 = torch.nn.Sequential(\n",
        "            torch.nn.Conv1d(\n",
        "                in_channels = 4,\n",
        "                out_channels = 8,\n",
        "                kernel_size = 5,\n",
        "                stride = 1,\n",
        "                padding = 2,\n",
        "            ),\n",
        "            torch.nn.BatchNorm1d(8),\n",
        "            torch.nn.Tanh(), # torch.nn.ReLU(),\n",
        "            torch.nn.MaxPool1d(3),\n",
        "        )\n",
        "\n",
        "        self.fnn1 = torch.nn.Linear(416, 234)\n",
        "        self.fnn2 = torch.nn.Linear(234, 64)\n",
        "\n",
        "    def forward(self, x):\n",
        "        assert torch.isinf(x).any() != True\n",
        "        x = self.conv1(x)\n",
        "        assert torch.isinf(x).any() != True\n",
        "        x = self.conv2(x)\n",
        "        assert torch.isinf(x).any() != True\n",
        "        x = x.view(x.size(0), -1)\n",
        "        output = self.activation(self.fnn1(x))\n",
        "        output = self.activation(self.fnn2(output))\n",
        "        return output\n",
        "'''"
      ]
    },
    {
      "cell_type": "code",
      "execution_count": 23,
      "id": "82cc0d8a",
      "metadata": {
        "lines_to_next_cell": 1,
        "id": "82cc0d8a"
      },
      "outputs": [],
      "source": [
        "class CNN(nn.Module):\n",
        "    def __init__(self):\n",
        "        super().__init__()\n",
        "        self.activation = torch.nn.Tanh()\n",
        "        self.conv1 = torch.nn.Sequential(\n",
        "            torch.nn.Conv1d(\n",
        "                in_channels = 1,\n",
        "                out_channels = 4,\n",
        "                kernel_size = 11, # 7,\n",
        "                stride = 1,\n",
        "                padding = 2,\n",
        "            ),\n",
        "            torch.nn.BatchNorm1d(4),\n",
        "            torch.nn.Tanh(), # torch.nn.ReLU(),\n",
        "            torch.nn.AvgPool1d(3), # torch.nn.MaxPool1d(3),\n",
        "        )\n",
        "\n",
        "        self.conv2 = torch.nn.Sequential(\n",
        "            torch.nn.Conv1d(\n",
        "                in_channels = 4,\n",
        "                out_channels = 8,\n",
        "                kernel_size = 5,\n",
        "                stride = 1,\n",
        "                padding = 2,\n",
        "            ),\n",
        "            torch.nn.BatchNorm1d(8),\n",
        "            torch.nn.Tanh(), # torch.nn.ReLU(),\n",
        "            torch.nn.AvgPool1d(3), # torch.nn.MaxPool1d(3),\n",
        "        )\n",
        "\n",
        "        self.conv3 = torch.nn.Sequential(\n",
        "            torch.nn.Conv1d(\n",
        "                in_channels = 8,\n",
        "                out_channels = 8,\n",
        "                kernel_size = 5,\n",
        "                stride = 1,\n",
        "                padding = 2,\n",
        "            ),\n",
        "            torch.nn.BatchNorm1d(8),\n",
        "            torch.nn.Tanh(), # torch.nn.ReLU(),\n",
        "            torch.nn.AvgPool1d(3), # torch.nn.MaxPool1d(3),\n",
        "        )\n",
        "\n",
        "        self.fnn1 = torch.nn.Linear(136, 64)\n",
        "        self.fnn2 = torch.nn.Linear(64, 64)\n",
        "        self.fnn3 = torch.nn.Linear(64, 64)\n",
        "\n",
        "    def forward(self, x):\n",
        "        x = self.conv1(x)\n",
        "        x = self.conv2(x)\n",
        "        x = self.conv3(x)\n",
        "        x = x.view(x.size(0), -1)\n",
        "        output = self.activation(self.fnn1(x))\n",
        "        output = self.activation(self.fnn2(output))\n",
        "        output = self.activation(self.fnn3(output))\n",
        "        return output"
      ]
    },
    {
      "cell_type": "markdown",
      "id": "5d0ec3a5",
      "metadata": {
        "id": "5d0ec3a5"
      },
      "source": [
        "main structure of DeepONet with multiple inputs (two inputs)"
      ]
    },
    {
      "cell_type": "code",
      "execution_count": 24,
      "id": "8965c2fd",
      "metadata": {
        "lines_to_next_cell": 1,
        "id": "8965c2fd"
      },
      "outputs": [],
      "source": [
        "class DeepONet(nn.Module):\n",
        "\n",
        "    # this deeponet contains 2 branch nets and 1 trunk net\n",
        "    # input_size_branch1: size of input tensor for branch net1\n",
        "    # hidden_layers_branch1: number of hidden layers in branch net1\n",
        "    # hidden_neurons_branch1: number of neurons per hidden layer in branch net1\n",
        "    # input_size_branch2: size of input tensor for branch net2\n",
        "    # hidden_layers_branch2: number of hidden layers in branch net2\n",
        "    # hidden_neurons_branch2: number of neurons per hidden layer in branch net2\n",
        "    # hidden_layers_trunk: number of hidden layers in trunk net\n",
        "    # hidden_neurons_trunk: number of neurons per hidden layer in trunk net\n",
        "    # inner_layer_siz: size of the inner layer, i.e. value of p\n",
        "    # activation: activation function\n",
        "    # size_bias: size of the output bias tensor\n",
        "\n",
        "    def __init__(self, input_size_branch1, hidden_layers_branch1, hidden_neurons_branch1, \\\n",
        "                 input_size_branch2, hidden_layers_branch2, hidden_neurons_branch2, \\\n",
        "                 hidden_layers_trunk, hidden_neurons_trunk, \\\n",
        "                 inner_layer_size, activation, size_bias):\n",
        "\n",
        "        super(DeepONet, self).__init__()\n",
        "        self.branch1 = FNN(input_size_branch1, inner_layer_size, hidden_layers_branch1, \\\n",
        "                           hidden_neurons_branch1, activation)\n",
        "        self.branch2 = CNN() # FNN(input_size_branch2, inner_layer_size, hidden_layers_branch2, \\\n",
        "                           # hidden_neurons_branch2, activation)\n",
        "        self.trunk = FNN(1, inner_layer_size, hidden_layers_trunk, hidden_neurons_trunk, activation)\n",
        "\n",
        "        self.bias = nn.Parameter(torch.Tensor(1, size_bias))\n",
        "\n",
        "    def forward(self, input_tensor_branch1, input_tensor_branch2, input_tensor_trunk):\n",
        "\n",
        "        # input tensor for branch net1 is input_tensor_branch1\n",
        "        # input tensor for branch net2 is input_tensor_branch2\n",
        "        # input tensor for trunk net is input_tensor_trunk\n",
        "\n",
        "        b_tensor = self.branch1(input_tensor_branch1)\n",
        "        s_tensor = self.branch2(input_tensor_branch2)\n",
        "        b = b_tensor * s_tensor\n",
        "\n",
        "        input_tensor_trunk = input_tensor_trunk.view(-1, 1)\n",
        "        t = self.trunk(input_tensor_trunk)\n",
        "\n",
        "        output =  torch.matmul(b, t.T) + self.bias.squeeze()\n",
        "\n",
        "        return output"
      ]
    },
    {
      "cell_type": "markdown",
      "id": "319a942d",
      "metadata": {
        "id": "319a942d"
      },
      "source": [
        "set up deeponet"
      ]
    },
    {
      "cell_type": "code",
      "execution_count": 25,
      "id": "2fed8165",
      "metadata": {
        "id": "2fed8165"
      },
      "outputs": [],
      "source": [
        "# input of the branch net 1 is the measurement height Z\n",
        "input_size_branch1 = 1\n",
        "hidden_layers_branch1 = 3\n",
        "hidden_neurons_branch1 = 32"
      ]
    },
    {
      "cell_type": "code",
      "execution_count": 26,
      "id": "cfffbfd9",
      "metadata": {
        "id": "cfffbfd9"
      },
      "outputs": [],
      "source": [
        "# input of the branch net 2 is the real and imaginary parts of scattered data\n",
        "input_size_branch2 = N_obs * 2\n",
        "hidden_layers_branch2 = 4\n",
        "hidden_neurons_branch2 = 64"
      ]
    },
    {
      "cell_type": "code",
      "execution_count": 27,
      "id": "413b6d12",
      "metadata": {
        "id": "413b6d12"
      },
      "outputs": [],
      "source": [
        "# input of the trunk net\n",
        "hidden_layers_trunk = 4\n",
        "hidden_neurons_trunk = 64"
      ]
    },
    {
      "cell_type": "code",
      "execution_count": 28,
      "id": "77942d12",
      "metadata": {
        "id": "77942d12"
      },
      "outputs": [],
      "source": [
        "# input layer size, value of p\n",
        "inner_layer_size = 64"
      ]
    },
    {
      "cell_type": "code",
      "execution_count": 29,
      "id": "1dbb69ae",
      "metadata": {
        "id": "1dbb69ae"
      },
      "outputs": [],
      "source": [
        "# activation function\n",
        "activation = nn.Tanh()"
      ]
    },
    {
      "cell_type": "code",
      "execution_count": 30,
      "id": "a51e9bda",
      "metadata": {
        "lines_to_next_cell": 2,
        "colab": {
          "base_uri": "https://localhost:8080/"
        },
        "id": "a51e9bda",
        "outputId": "c68113f3-cb32-4f44-9a36-c952f30b9252"
      },
      "outputs": [
        {
          "output_type": "stream",
          "name": "stdout",
          "text": [
            "calculation device :  cuda\n"
          ]
        }
      ],
      "source": [
        "device = torch.device('cuda' if torch.cuda.is_available() else 'cpu')\n",
        "print('calculation device : ', device)"
      ]
    },
    {
      "cell_type": "code",
      "execution_count": 31,
      "id": "adb1813b",
      "metadata": {
        "id": "adb1813b"
      },
      "outputs": [],
      "source": [
        "model = DeepONet(input_size_branch1, hidden_layers_branch1, hidden_neurons_branch1, \\\n",
        "                 input_size_branch2, hidden_layers_branch2, hidden_neurons_branch2, \\\n",
        "                 hidden_layers_trunk, hidden_neurons_trunk, \\\n",
        "                 inner_layer_size, activation, N_obs).to(device)"
      ]
    },
    {
      "cell_type": "code",
      "execution_count": 32,
      "id": "b892e96a",
      "metadata": {
        "lines_to_next_cell": 1,
        "id": "b892e96a"
      },
      "outputs": [],
      "source": [
        "torch.save(model.state_dict(), 'start_model_parameters_dirichlet.pth')"
      ]
    },
    {
      "cell_type": "code",
      "execution_count": 33,
      "id": "32bbb393",
      "metadata": {
        "lines_to_next_cell": 1,
        "id": "32bbb393"
      },
      "outputs": [],
      "source": [
        "# count the number of hyperparameters in the neural network\n",
        "def number_parameter_count(network):\n",
        "\n",
        "    num_trainable_para = 0\n",
        "    for param in network.parameters():\n",
        "        if param.requires_grad == True:\n",
        "            num_trainable_para += np.product(param.shape)\n",
        "\n",
        "    return num_trainable_para"
      ]
    },
    {
      "cell_type": "code",
      "execution_count": 34,
      "id": "9f4879de",
      "metadata": {
        "colab": {
          "base_uri": "https://localhost:8080/"
        },
        "id": "9f4879de",
        "outputId": "7da851d9-9346-4364-83df-0e68639482ed"
      },
      "outputs": [
        {
          "output_type": "stream",
          "name": "stdout",
          "text": [
            "Number of learnable model parameters: 38968\n"
          ]
        },
        {
          "output_type": "stream",
          "name": "stderr",
          "text": [
            "<ipython-input-34-d71383434bdc>:1: DeprecationWarning: `product` is deprecated as of NumPy 1.25.0, and will be removed in NumPy 2.0. Please use `prod` instead.\n",
            "  num_trainable_para = number_parameter_count(model)\n"
          ]
        }
      ],
      "source": [
        "num_trainable_para = number_parameter_count(model)\n",
        "print(f\"Number of learnable model parameters: {num_trainable_para}\")"
      ]
    },
    {
      "cell_type": "code",
      "execution_count": 35,
      "id": "4786bd23",
      "metadata": {
        "id": "4786bd23"
      },
      "outputs": [],
      "source": [
        "# set the number of training data and testing data\n",
        "size_training_data = 15000\n",
        "size_testing_data = 5000"
      ]
    },
    {
      "cell_type": "code",
      "execution_count": 36,
      "id": "1dbd85e6",
      "metadata": {
        "id": "1dbd85e6"
      },
      "outputs": [],
      "source": [
        "# set batch size\n",
        "size_batch = 3000"
      ]
    },
    {
      "cell_type": "code",
      "execution_count": 37,
      "id": "26520f36",
      "metadata": {
        "id": "26520f36"
      },
      "outputs": [],
      "source": [
        "# choose optimizer and learning rate\n",
        "optimizer = torch.optim.Adam(model.parameters(), lr=0.0001)"
      ]
    },
    {
      "cell_type": "code",
      "execution_count": 38,
      "id": "7a49c9ad",
      "metadata": {
        "id": "7a49c9ad"
      },
      "outputs": [],
      "source": [
        "# number of epochs\n",
        "num_epochs = 15000"
      ]
    },
    {
      "cell_type": "code",
      "execution_count": 39,
      "id": "75544834",
      "metadata": {
        "id": "75544834"
      },
      "outputs": [],
      "source": [
        "time1 = time.time()"
      ]
    },
    {
      "cell_type": "code",
      "execution_count": 40,
      "id": "9fd19bab",
      "metadata": {
        "lines_to_next_cell": 2,
        "colab": {
          "base_uri": "https://localhost:8080/"
        },
        "id": "9fd19bab",
        "outputId": "ed4945e8-9c7c-4a06-85a1-9c36ae1f01f7"
      },
      "outputs": [
        {
          "output_type": "stream",
          "name": "stderr",
          "text": [
            "/usr/local/lib/python3.10/dist-packages/torch/nn/modules/conv.py:306: UserWarning: Plan failed with a cudnnException: CUDNN_BACKEND_EXECUTION_PLAN_DESCRIPTOR: cudnnFinalize Descriptor Failed cudnn_status: CUDNN_STATUS_NOT_SUPPORTED (Triggered internally at ../aten/src/ATen/native/cudnn/Conv_v8.cpp:919.)\n",
            "  return F.conv1d(input, weight, bias, self.stride,\n"
          ]
        },
        {
          "output_type": "stream",
          "name": "stdout",
          "text": [
            "Epoch [100], Loss: 0.1543535050\n",
            "Epoch [200], Loss: 0.0867848247\n",
            "Epoch [300], Loss: 0.0593951559\n",
            "Epoch [400], Loss: 0.0487339795\n",
            "Epoch [500], Loss: 0.0423065266\n",
            "Epoch [600], Loss: 0.0367847425\n",
            "Epoch [700], Loss: 0.0326012643\n",
            "Epoch [800], Loss: 0.0295294947\n",
            "Epoch [900], Loss: 0.0263624410\n",
            "Epoch [1000], Loss: 0.0243242863\n",
            "Epoch [1100], Loss: 0.0230655209\n",
            "Epoch [1200], Loss: 0.0214990699\n",
            "Epoch [1300], Loss: 0.0197036476\n",
            "Epoch [1400], Loss: 0.0179542638\n",
            "Epoch [1500], Loss: 0.0164019682\n",
            "Epoch [1600], Loss: 0.0150907857\n",
            "Epoch [1700], Loss: 0.0140075793\n",
            "Epoch [1800], Loss: 0.0130206491\n",
            "Epoch [1900], Loss: 0.0120911256\n",
            "Epoch [2000], Loss: 0.0112317905\n",
            "Epoch [2100], Loss: 0.0104666972\n",
            "Epoch [2200], Loss: 0.0098132056\n",
            "Epoch [2300], Loss: 0.0092515349\n",
            "Epoch [2400], Loss: 0.0086648621\n",
            "Epoch [2500], Loss: 0.0080147913\n",
            "Epoch [2600], Loss: 0.0075611218\n",
            "Epoch [2700], Loss: 0.0072405805\n",
            "Epoch [2800], Loss: 0.0069302112\n",
            "Epoch [2900], Loss: 0.0066322383\n",
            "Epoch [3000], Loss: 0.0063753388\n",
            "Epoch [3100], Loss: 0.0061603918\n",
            "Epoch [3200], Loss: 0.0059742699\n",
            "Epoch [3300], Loss: 0.0058064916\n",
            "Epoch [3400], Loss: 0.0056374964\n",
            "Epoch [3500], Loss: 0.0054673989\n",
            "Epoch [3600], Loss: 0.0053011568\n",
            "Epoch [3700], Loss: 0.0051418856\n",
            "Epoch [3800], Loss: 0.0049977186\n",
            "Epoch [3900], Loss: 0.0048668726\n",
            "Epoch [4000], Loss: 0.0047472507\n",
            "Epoch [4100], Loss: 0.0046379631\n",
            "Epoch [4200], Loss: 0.0045297426\n",
            "Epoch [4300], Loss: 0.0044259697\n",
            "Epoch [4400], Loss: 0.0043306882\n",
            "Epoch [4500], Loss: 0.0042356529\n",
            "Epoch [4600], Loss: 0.0041458561\n",
            "Epoch [4700], Loss: 0.0040542061\n",
            "Epoch [4800], Loss: 0.0039660818\n",
            "Epoch [4900], Loss: 0.0038853058\n",
            "Epoch [5000], Loss: 0.0038131254\n",
            "Epoch [5100], Loss: 0.0037432028\n",
            "Epoch [5200], Loss: 0.0036788778\n",
            "Epoch [5300], Loss: 0.0036201433\n",
            "Epoch [5400], Loss: 0.0035669134\n",
            "Epoch [5500], Loss: 0.0035142968\n",
            "Epoch [5600], Loss: 0.0034629109\n",
            "Epoch [5700], Loss: 0.0034128768\n",
            "Epoch [5800], Loss: 0.0033632225\n",
            "Epoch [5900], Loss: 0.0033154123\n",
            "Epoch [6000], Loss: 0.0032655181\n",
            "Epoch [6100], Loss: 0.0032162757\n",
            "Epoch [6200], Loss: 0.0031674493\n",
            "Epoch [6300], Loss: 0.0031198698\n",
            "Epoch [6400], Loss: 0.0030740626\n",
            "Epoch [6500], Loss: 0.0030306994\n",
            "Epoch [6600], Loss: 0.0029901959\n",
            "Epoch [6700], Loss: 0.0029525404\n",
            "Epoch [6800], Loss: 0.0029175871\n",
            "Epoch [6900], Loss: 0.0028852933\n",
            "Epoch [7000], Loss: 0.0028541831\n",
            "Epoch [7100], Loss: 0.0028250888\n",
            "Epoch [7200], Loss: 0.0027976359\n",
            "Epoch [7300], Loss: 0.0027716205\n",
            "Epoch [7400], Loss: 0.0027463982\n",
            "Epoch [7500], Loss: 0.0027205469\n",
            "Epoch [7600], Loss: 0.0026959843\n",
            "Epoch [7700], Loss: 0.0026736409\n",
            "Epoch [7800], Loss: 0.0026517645\n",
            "Epoch [7900], Loss: 0.0026309036\n",
            "Epoch [8000], Loss: 0.0026108596\n",
            "Epoch [8100], Loss: 0.0025912891\n",
            "Epoch [8200], Loss: 0.0025722543\n",
            "Epoch [8300], Loss: 0.0025537631\n",
            "Epoch [8400], Loss: 0.0025358738\n",
            "Epoch [8500], Loss: 0.0025181550\n",
            "Epoch [8600], Loss: 0.0025021796\n",
            "Epoch [8700], Loss: 0.0024827622\n",
            "Epoch [8800], Loss: 0.0024685429\n",
            "Epoch [8900], Loss: 0.0024507181\n",
            "Epoch [9000], Loss: 0.0024356268\n",
            "Epoch [9100], Loss: 0.0024213423\n",
            "Epoch [9200], Loss: 0.0024037909\n",
            "Epoch [9300], Loss: 0.0023919990\n",
            "Epoch [9400], Loss: 0.0023756645\n",
            "Epoch [9500], Loss: 0.0023609707\n",
            "Epoch [9600], Loss: 0.0023438961\n",
            "Epoch [9700], Loss: 0.0023278482\n",
            "Epoch [9800], Loss: 0.0023136465\n",
            "Epoch [9900], Loss: 0.0022960227\n",
            "Epoch [10000], Loss: 0.0022784647\n",
            "Epoch [10100], Loss: 0.0022610136\n",
            "Epoch [10200], Loss: 0.0022439960\n",
            "Epoch [10300], Loss: 0.0022255590\n",
            "Epoch [10400], Loss: 0.0022075816\n",
            "Epoch [10500], Loss: 0.0021899177\n",
            "Epoch [10600], Loss: 0.0021729956\n",
            "Epoch [10700], Loss: 0.0021610518\n",
            "Epoch [10800], Loss: 0.0021399215\n",
            "Epoch [10900], Loss: 0.0021248405\n",
            "Epoch [11000], Loss: 0.0021097991\n",
            "Epoch [11100], Loss: 0.0020950896\n",
            "Epoch [11200], Loss: 0.0020811303\n",
            "Epoch [11300], Loss: 0.0020674546\n",
            "Epoch [11400], Loss: 0.0020540890\n",
            "Epoch [11500], Loss: 0.0020414006\n",
            "Epoch [11600], Loss: 0.0020283656\n",
            "Epoch [11700], Loss: 0.0020194706\n",
            "Epoch [11800], Loss: 0.0020054958\n",
            "Epoch [11900], Loss: 0.0019947525\n",
            "Epoch [12000], Loss: 0.0019887939\n",
            "Epoch [12100], Loss: 0.0019817563\n",
            "Epoch [12200], Loss: 0.0019695770\n",
            "Epoch [12300], Loss: 0.0019621915\n",
            "Epoch [12400], Loss: 0.0019534884\n",
            "Epoch [12500], Loss: 0.0019459231\n",
            "Epoch [12600], Loss: 0.0019384852\n",
            "Epoch [12700], Loss: 0.0019310710\n",
            "Epoch [12800], Loss: 0.0019223962\n",
            "Epoch [12900], Loss: 0.0019258426\n",
            "Epoch [13000], Loss: 0.0019099464\n",
            "Epoch [13100], Loss: 0.0019025476\n",
            "Epoch [13200], Loss: 0.0018967502\n",
            "Epoch [13300], Loss: 0.0018879901\n",
            "Epoch [13400], Loss: 0.0018820544\n",
            "Epoch [13500], Loss: 0.0018758632\n",
            "Epoch [13600], Loss: 0.0018693170\n",
            "Epoch [13700], Loss: 0.0018634696\n",
            "Epoch [13800], Loss: 0.0018572762\n",
            "Epoch [13900], Loss: 0.0018500003\n",
            "Epoch [14000], Loss: 0.0018429078\n",
            "Epoch [14100], Loss: 0.0018384215\n",
            "Epoch [14200], Loss: 0.0018310519\n",
            "Epoch [14300], Loss: 0.0018254413\n",
            "Epoch [14400], Loss: 0.0018193361\n",
            "Epoch [14500], Loss: 0.0018125677\n",
            "Epoch [14600], Loss: 0.0018068464\n",
            "Epoch [14700], Loss: 0.0018004712\n",
            "Epoch [14800], Loss: 0.0017936936\n",
            "Epoch [14900], Loss: 0.0017895064\n",
            "Epoch [15000], Loss: 0.0017839732\n"
          ]
        }
      ],
      "source": [
        "# main loop for the deeponet\n",
        "for epoch in range(num_epochs):\n",
        "\n",
        "    total_loss = 0\n",
        "\n",
        "    # loof for batches\n",
        "    for i in range(0, size_training_data, size_batch):\n",
        "\n",
        "        # data for the output\n",
        "        hei_data_tensor = normalized_hei_tensors[i:i + size_batch].to(device)\n",
        "\n",
        "        # branch net1 input: measurement height Z\n",
        "        zz_input_tensor = normalized_zz_tensors[i:i + size_batch].to(device)\n",
        "\n",
        "        # branch net2 input: real and imaginary parts of scattered data\n",
        "        sc_real_tensor = normalized_phis_real_tensors[i:i + size_batch].to(device)\n",
        "        sc_imag_tensor = normalized_phis_imag_tensors[i:i + size_batch].to(device)\n",
        "        # sc_input_tensor = torch.cat((sc_real_tensor, sc_imag_tensor), dim=1)\n",
        "        sc_input_tensor = (torch.cat((sc_real_tensor, sc_imag_tensor), dim=1)).unsqueeze(1)\n",
        "\n",
        "        # deeponet output\n",
        "        hei_pred_tensor = model(zz_input_tensor, sc_input_tensor, normalized_x_tensors.to(device))\n",
        "\n",
        "        # loss function\n",
        "        loss = nn.MSELoss()(hei_pred_tensor, hei_data_tensor)\n",
        "\n",
        "        # optimizing step with backward propagation\n",
        "        optimizer.zero_grad()\n",
        "        loss.backward(retain_graph=True)\n",
        "        optimizer.step()\n",
        "\n",
        "        total_loss += loss.item()\n",
        "\n",
        "    if (epoch + 1) % 100 == 0:\n",
        "        print(f'Epoch [{epoch+1}], Loss: {total_loss:.10f}')"
      ]
    },
    {
      "cell_type": "code",
      "execution_count": 41,
      "id": "73bb204e",
      "metadata": {
        "colab": {
          "base_uri": "https://localhost:8080/"
        },
        "id": "73bb204e",
        "outputId": "3080a123-cefd-49be-843f-12744747d986"
      },
      "outputs": [
        {
          "output_type": "stream",
          "name": "stdout",
          "text": [
            "Training time cost: 17.71 minutes\n"
          ]
        }
      ],
      "source": [
        "time2 = time.time()\n",
        "time_cost_minutes = (time2 - time1) / 60\n",
        "print(f\"Training time cost: {time_cost_minutes:.2f} minutes\")"
      ]
    },
    {
      "cell_type": "markdown",
      "id": "1a2ad243",
      "metadata": {
        "id": "1a2ad243"
      },
      "source": [
        "test results using testing data"
      ]
    },
    {
      "cell_type": "code",
      "execution_count": 42,
      "id": "7ab5a29e",
      "metadata": {
        "id": "7ab5a29e"
      },
      "outputs": [],
      "source": [
        "ntest = 19720"
      ]
    },
    {
      "cell_type": "code",
      "execution_count": 43,
      "id": "4e5168db",
      "metadata": {
        "id": "4e5168db"
      },
      "outputs": [],
      "source": [
        "# original surface height\n",
        "hei_actual_tensor = normalized_hei_tensors[ntest]\n",
        "hei_actual = inverse_normalize_tensor(hei_actual_tensor, hmax, hmin)\n",
        "hei_actual_vec = hei_actual.cpu().detach().numpy()"
      ]
    },
    {
      "cell_type": "code",
      "execution_count": 44,
      "id": "7c5fba20",
      "metadata": {
        "id": "7c5fba20"
      },
      "outputs": [],
      "source": [
        "# input datas\n",
        "zz_tensor_test = normalized_zz_tensors[ntest].to(device)\n",
        "sc_real_tensor_test = normalized_phis_real_tensors[ntest].to(device)\n",
        "sc_imag_tensor_test = normalized_phis_imag_tensors[ntest].to(device)\n",
        "sc_input_tensor_test = ((torch.cat((sc_real_tensor_test, sc_imag_tensor_test), dim=0)).unsqueeze(0)).unsqueeze(0)"
      ]
    },
    {
      "cell_type": "code",
      "execution_count": 45,
      "id": "46e44806",
      "metadata": {
        "id": "46e44806"
      },
      "outputs": [],
      "source": [
        "# output data (predicted surface)\n",
        "hei_pred_tensor_test = model(zz_tensor_test, sc_input_tensor_test, normalized_x_tensors.to(device))\n",
        "hei_pred = inverse_normalize_tensor(hei_pred_tensor_test, hmax, hmin)\n",
        "hei_pred_vec = (hei_pred.cpu().detach().numpy()).squeeze(0)"
      ]
    },
    {
      "cell_type": "code",
      "execution_count": 46,
      "id": "b73f07e9",
      "metadata": {
        "colab": {
          "base_uri": "https://localhost:8080/",
          "height": 451
        },
        "id": "b73f07e9",
        "outputId": "c89d7433-3b93-4d1e-acd3-ca38ccf981ed"
      },
      "outputs": [
        {
          "output_type": "display_data",
          "data": {
            "text/plain": [
              "<Figure size 640x480 with 1 Axes>"
            ],
            "image/png": "[encoded data removed]"
          },
          "metadata": {}
        }
      ],
      "source": [
        "line1, = plt.plot(mesh_mid_obs[1:] / lamb, hei_actual_vec / lamb)\n",
        "line2, = plt.plot(mesh_mid_obs[1:] / lamb, hei_pred_vec / lamb)\n",
        "plt.xlabel(r'$x/{\\lambda}$')\n",
        "plt.ylabel(r'$z/{\\lambda}$')\n",
        "leg=plt.legend([line1, line2],\n",
        "        ['actual surface',\n",
        "        'reconstructed surface'], loc = \"best\")\n",
        "plt.savefig(\"without_noise.png\")\n",
        "plt.show()"
      ]
    },
    {
      "cell_type": "code",
      "execution_count": 47,
      "id": "b3805a1a",
      "metadata": {
        "colab": {
          "base_uri": "https://localhost:8080/"
        },
        "id": "b3805a1a",
        "outputId": "8c317c8d-d0bd-4a94-93f6-b24014d2ef90"
      },
      "outputs": [
        {
          "output_type": "stream",
          "name": "stdout",
          "text": [
            "l2 norm error is:  0.19839406\n"
          ]
        }
      ],
      "source": [
        "# calculate the l2 norm error\n",
        "error_vec = hei_actual_vec - hei_pred_vec\n",
        "print(\"l2 norm error is: \", np.linalg.norm(error_vec) / np.linalg.norm(hei_actual_vec))"
      ]
    },
    {
      "cell_type": "code",
      "execution_count": 48,
      "id": "088298e2",
      "metadata": {
        "id": "088298e2"
      },
      "outputs": [],
      "source": [
        "# save the hyperparameters\n",
        "torch.save(model.state_dict(), 'model_parameters_dirichlet.pth')"
      ]
    },
    {
      "cell_type": "markdown",
      "id": "e49dfef7",
      "metadata": {
        "id": "e49dfef7"
      },
      "source": [
        "test the method with noisy data"
      ]
    },
    {
      "cell_type": "code",
      "execution_count": 49,
      "id": "26e983e7",
      "metadata": {
        "id": "26e983e7"
      },
      "outputs": [],
      "source": [
        "ntest = 19720"
      ]
    },
    {
      "cell_type": "code",
      "execution_count": 50,
      "id": "9ded5b87",
      "metadata": {
        "id": "9ded5b87"
      },
      "outputs": [],
      "source": [
        "# original surface height\n",
        "hei_actual_tensor = normalized_hei_tensors[ntest]\n",
        "hei_actual = inverse_normalize_tensor(hei_actual_tensor, hmax, hmin)\n",
        "hei_actual_vec = hei_actual.cpu().detach().numpy()"
      ]
    },
    {
      "cell_type": "code",
      "execution_count": 51,
      "id": "32904639",
      "metadata": {
        "id": "32904639"
      },
      "outputs": [],
      "source": [
        "# input datas\n",
        "zz_tensor_test = normalized_zz_tensors[ntest].to(device)\n",
        "sc_real_tensor_test = normalized_phis_real_tensors[ntest].to(device)\n",
        "sc_imag_tensor_test = normalized_phis_imag_tensors[ntest].to(device)"
      ]
    },
    {
      "cell_type": "code",
      "execution_count": 52,
      "id": "e79db707",
      "metadata": {
        "id": "e79db707"
      },
      "outputs": [],
      "source": [
        "# add white noise to the scattered data\n",
        "# noise level eps\n",
        "eps = 0.1\n",
        "# random numbers in [-1,1]\n",
        "random_float = (torch.rand_like(sc_real_tensor_test) - 0.5) * 2\n",
        "sc_real_tensor_noise = sc_real_tensor_test * (1 + eps * random_float)\n",
        "sc_imag_tensor_noise = sc_imag_tensor_test * (1 + eps * random_float)\n",
        "sc_input_tensor_noise = ((torch.cat((sc_real_tensor_noise, sc_imag_tensor_noise), dim=0)).unsqueeze(0)).unsqueeze(0)"
      ]
    },
    {
      "cell_type": "code",
      "execution_count": 53,
      "id": "622428d5",
      "metadata": {
        "id": "622428d5"
      },
      "outputs": [],
      "source": [
        "# output data (predicted surface)\n",
        "hei_pred_tensor_noise = model(zz_tensor_test, sc_input_tensor_noise, normalized_x_tensors.to(device))\n",
        "hei_pred_noise = inverse_normalize_tensor(hei_pred_tensor_noise, hmax, hmin)\n",
        "hei_pred_vec = (hei_pred_noise.cpu().detach().numpy()).squeeze(0)"
      ]
    },
    {
      "cell_type": "code",
      "execution_count": 54,
      "id": "db963ef4",
      "metadata": {
        "colab": {
          "base_uri": "https://localhost:8080/",
          "height": 451
        },
        "id": "db963ef4",
        "outputId": "cf48b048-24d9-4fb4-c6c6-aa827aae4995"
      },
      "outputs": [
        {
          "output_type": "display_data",
          "data": {
            "text/plain": [
              "<Figure size 640x480 with 1 Axes>"
            ],
            "image/png": "[encoded data removed]"
          },
          "metadata": {}
        }
      ],
      "source": [
        "line1, = plt.plot(mesh_mid_obs[1:] / lamb, hei_actual_vec / lamb)\n",
        "line2, = plt.plot(mesh_mid_obs[1:] / lamb, hei_pred_vec / lamb)\n",
        "plt.xlabel(r'$x/{\\lambda}$')\n",
        "plt.ylabel(r'$z/{\\lambda}$')\n",
        "leg=plt.legend([line1, line2],\n",
        "        ['actual surface',\n",
        "        'reconstructed surface'], loc = \"best\")\n",
        "plt.savefig(\"with_noise.png\")\n",
        "plt.show()"
      ]
    },
    {
      "cell_type": "code",
      "execution_count": 55,
      "id": "af233c2a",
      "metadata": {
        "colab": {
          "base_uri": "https://localhost:8080/"
        },
        "id": "af233c2a",
        "outputId": "5f4cdc72-4ae2-4aa3-c454-a8fbbec6de4a"
      },
      "outputs": [
        {
          "output_type": "stream",
          "name": "stdout",
          "text": [
            "l2 norm error is:  0.22391511\n"
          ]
        }
      ],
      "source": [
        "# calculate the l2 norm error\n",
        "error_vec = hei_actual_vec - hei_pred_vec\n",
        "print(\"l2 norm error is: \", np.linalg.norm(error_vec) / np.linalg.norm(hei_actual_vec))"
      ]
    }
  ],
  "metadata": {
    "jupytext": {
      "cell_metadata_filter": "-all",
      "encoding": "# -*- coding: utf-8 -*-",
      "main_language": "python",
      "notebook_metadata_filter": "-all"
    },
    "colab": {
      "provenance": [],
      "gpuType": "T4"
    },
    "language_info": {
      "name": "python"
    },
    "kernelspec": {
      "name": "python3",
      "display_name": "Python 3"
    },
    "accelerator": "GPU"
  },
  "nbformat": 4,
  "nbformat_minor": 5
}